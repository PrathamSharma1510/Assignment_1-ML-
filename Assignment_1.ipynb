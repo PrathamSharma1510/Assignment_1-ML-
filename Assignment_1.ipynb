{
 "cells": [
  {
   "cell_type": "code",
   "execution_count": 1,
   "id": "c067323e",
   "metadata": {},
   "outputs": [],
   "source": [
    "# 1. Create one variable containing following type of data:\n",
    "# (i) string\n",
    "# (ii) list\n",
    "# (iii) float\n",
    "# (iv) tuple"
   ]
  },
  {
   "cell_type": "code",
   "execution_count": 8,
   "id": "f46229d1",
   "metadata": {},
   "outputs": [
    {
     "name": "stdout",
     "output_type": "stream",
     "text": [
      "Pratham [1, 2, 3, 4, 5] 3.23 (2, 3, 'sharma', 4, 4.33)\n"
     ]
    }
   ],
   "source": [
    "str=\"Pratham\"\n",
    "my_list=[1,2,3,4,5]\n",
    "flo=3.23\n",
    "tup=(2,3,\"sharma\",4,4.33)\n",
    "\n",
    "print(str,my_list,flo,tup)"
   ]
  },
  {
   "cell_type": "code",
   "execution_count": 10,
   "id": "e21dde9e",
   "metadata": {},
   "outputs": [],
   "source": [
    "# Q2. Given are some following variables containing data:\n",
    "# (i) var1 = ‘ ‘\n",
    "# (ii) var2 = ‘[ DS , ML , Python]’\n",
    "# (iii) var3 = [ ‘DS’ , ’ML’ , ‘Python’ ]\n",
    "# (iv) var4 = 1.\n",
    "# What will be the data type of the above given variable."
   ]
  },
  {
   "cell_type": "code",
   "execution_count": 16,
   "id": "12b57a91",
   "metadata": {},
   "outputs": [
    {
     "data": {
      "text/plain": [
       "float"
      ]
     },
     "execution_count": 16,
     "metadata": {},
     "output_type": "execute_result"
    }
   ],
   "source": [
    "# 1) string \n",
    "# 2) String \n",
    "# 3) List \n",
    "# 4) float "
   ]
  },
  {
   "cell_type": "code",
   "execution_count": 17,
   "id": "a73e6149",
   "metadata": {},
   "outputs": [],
   "source": [
    "# Q3. Explain the use of the following operators using an example:\n",
    "# (i) /\n",
    "# (ii) %\n",
    "# (iii) //\n",
    "# (iv) **"
   ]
  },
  {
   "cell_type": "code",
   "execution_count": 20,
   "id": "e87cf1c2",
   "metadata": {},
   "outputs": [
    {
     "name": "stdout",
     "output_type": "stream",
     "text": [
      "5.0\n",
      "4.0\n",
      "4\n",
      "16\n"
     ]
    }
   ],
   "source": [
    "# 1) / operator is used for division \n",
    "print(10/2)\n",
    "# 2) % operator is used to find the remainder \n",
    "print(12/3)\n",
    "# 3) // is used for the floor division\n",
    "print(13//3)\n",
    "# 4) ** is used for to find power \n",
    "print(2**4)"
   ]
  },
  {
   "cell_type": "code",
   "execution_count": 21,
   "id": "a910e2b9",
   "metadata": {},
   "outputs": [],
   "source": [
    "# Q4. Create a list of length 10 of your choice containing multiple types of data. Using for loop print the\n",
    "# element and its data type."
   ]
  },
  {
   "cell_type": "code",
   "execution_count": 27,
   "id": "295df3fa",
   "metadata": {},
   "outputs": [
    {
     "name": "stdout",
     "output_type": "stream",
     "text": [
      "1 type ->  <class 'int'>\n",
      "2 type ->  <class 'int'>\n",
      "hello type ->  <class 'str'>\n",
      "3.22 type ->  <class 'float'>\n",
      "(2+4j) type ->  <class 'complex'>\n",
      "6 type ->  <class 'int'>\n",
      "7 type ->  <class 'int'>\n",
      "pro type ->  <class 'str'>\n",
      "okay type ->  <class 'str'>\n",
      "10 type ->  <class 'int'>\n"
     ]
    }
   ],
   "source": [
    "My_list=[1,2,\"hello\",3.22,2+4j,6,7,\"pro\",\"okay\",10]\n",
    "for i in My_list:\n",
    "    print(i,\"type -> \",type(i))\n",
    "    "
   ]
  },
  {
   "cell_type": "code",
   "execution_count": 28,
   "id": "e2541cd5",
   "metadata": {},
   "outputs": [],
   "source": [
    "# Q5.Using a while loop, verify if the number A is purely divisible by number B and if so then how many\n",
    "# times it can be divisible."
   ]
  },
  {
   "cell_type": "code",
   "execution_count": 1,
   "id": "5bdb2f8e",
   "metadata": {},
   "outputs": [
    {
     "name": "stdout",
     "output_type": "stream",
     "text": [
      "purely divisible\n",
      "count  3\n"
     ]
    }
   ],
   "source": [
    "a = int(input(\"Enter number a-> \"))\n",
    "b = int(input(\"Enter number b-> \"))\n",
    "count=0\n",
    "while(a>0):\n",
    "    a=a-b\n",
    "    count=count+1\n",
    "\n",
    "if(a==0):\n",
    "    print(\"purely divisible\")\n",
    "    print(\"count =\",count)\n",
    "\n",
    "else:\n",
    "    print(\"Not purely divisible\")"
   ]
  },
  {
   "cell_type": "code",
   "execution_count": null,
   "id": "aead9ca8",
   "metadata": {},
   "outputs": [],
   "source": [
    "# Q6. Create a list containing 25 int type data. Using for loop and if-else condition print if the element is\n",
    "# divisible by 3 or not."
   ]
  },
  {
   "cell_type": "code",
   "execution_count": 3,
   "id": "9f492788",
   "metadata": {},
   "outputs": [
    {
     "name": "stdout",
     "output_type": "stream",
     "text": [
      "1  ->   Not divisible by 3\n",
      "2  ->   Not divisible by 3\n",
      "3  ->   divisible by 3\n",
      "4  ->   Not divisible by 3\n",
      "5  ->   Not divisible by 3\n",
      "6  ->   divisible by 3\n",
      "7  ->   Not divisible by 3\n",
      "8  ->   Not divisible by 3\n",
      "9  ->   divisible by 3\n",
      "10  ->   Not divisible by 3\n",
      "11  ->   Not divisible by 3\n",
      "12  ->   divisible by 3\n",
      "13  ->   Not divisible by 3\n",
      "14  ->   Not divisible by 3\n",
      "15  ->   divisible by 3\n",
      "16  ->   Not divisible by 3\n",
      "117  ->   divisible by 3\n",
      "18  ->   divisible by 3\n",
      "19  ->   Not divisible by 3\n",
      "20  ->   Not divisible by 3\n",
      "21  ->   divisible by 3\n",
      "22  ->   Not divisible by 3\n",
      "23  ->   Not divisible by 3\n",
      "24  ->   divisible by 3\n",
      "25  ->   Not divisible by 3\n"
     ]
    }
   ],
   "source": [
    "Lis=[1,2,3,4,5,6,7,8,9,10,11,12,13,14,15,16,117,18,19,20,21,22,23,24,25]\n",
    "for i in Lis :\n",
    "    if(i%3==0):\n",
    "        print(i,\" -> \",\" divisible by 3\")\n",
    "    else:\n",
    "        print(i,\" -> \",\" Not divisible by 3\")\n"
   ]
  },
  {
   "cell_type": "code",
   "execution_count": null,
   "id": "8343cd49",
   "metadata": {},
   "outputs": [],
   "source": [
    "# Q7. What do you  understand about mutable and immutable data types? Give examples for both showing\n",
    "# this property.\n",
    "\n",
    "# Note: Create your assignment in Jupyter notebook and upload it to GitHub & share that github repository\n",
    "# link through your dashboard. Make sure the repository is public."
   ]
  },
  {
   "cell_type": "code",
   "execution_count": 5,
   "id": "eb6f6f08",
   "metadata": {},
   "outputs": [
    {
     "name": "stdout",
     "output_type": "stream",
     "text": [
      "[1, 100, 4, 5, 6, 7, 8, 9, 10, 11]\n"
     ]
    },
    {
     "ename": "TypeError",
     "evalue": "'str' object does not support item assignment",
     "output_type": "error",
     "traceback": [
      "\u001b[0;31m---------------------------------------------------------------------------\u001b[0m",
      "\u001b[0;31mTypeError\u001b[0m                                 Traceback (most recent call last)",
      "\u001b[0;32m/var/folders/lw/p2v0sfvn59df3jm6s4l8kc6h0000gn/T/ipykernel_49174/238898736.py\u001b[0m in \u001b[0;36m<module>\u001b[0;34m\u001b[0m\n\u001b[1;32m      6\u001b[0m \u001b[0;34m\u001b[0m\u001b[0m\n\u001b[1;32m      7\u001b[0m \u001b[0mm\u001b[0m\u001b[0;34m=\u001b[0m\u001b[0;34m\"hello\"\u001b[0m\u001b[0;34m\u001b[0m\u001b[0;34m\u001b[0m\u001b[0m\n\u001b[0;32m----> 8\u001b[0;31m \u001b[0mm\u001b[0m\u001b[0;34m[\u001b[0m\u001b[0;36m0\u001b[0m\u001b[0;34m]\u001b[0m\u001b[0;34m=\u001b[0m\u001b[0;34m\"f\"\u001b[0m\u001b[0;34m\u001b[0m\u001b[0;34m\u001b[0m\u001b[0m\n\u001b[0m\u001b[1;32m      9\u001b[0m \u001b[0mprint\u001b[0m\u001b[0;34m(\u001b[0m\u001b[0mm\u001b[0m\u001b[0;34m)\u001b[0m\u001b[0;34m\u001b[0m\u001b[0;34m\u001b[0m\u001b[0m\n",
      "\u001b[0;31mTypeError\u001b[0m: 'str' object does not support item assignment"
     ]
    }
   ],
   "source": [
    "# Mutable datatypes are which we can modified the value but in immutable datatype we can't modify the value.\n",
    "# mutable\n",
    "v=[1,3,4,5,6,7,8,9,10,11]\n",
    "v[1]=100\n",
    "print(v)\n",
    "\n",
    "# immutable\n",
    "m=\"hello\"\n",
    "m[0]=\"f\"\n",
    "print(m)"
   ]
  }
 ],
 "metadata": {
  "kernelspec": {
   "display_name": "Python 3 (ipykernel)",
   "language": "python",
   "name": "python3"
  },
  "language_info": {
   "codemirror_mode": {
    "name": "ipython",
    "version": 3
   },
   "file_extension": ".py",
   "mimetype": "text/x-python",
   "name": "python",
   "nbconvert_exporter": "python",
   "pygments_lexer": "ipython3",
   "version": "3.9.12"
  }
 },
 "nbformat": 4,
 "nbformat_minor": 5
}
